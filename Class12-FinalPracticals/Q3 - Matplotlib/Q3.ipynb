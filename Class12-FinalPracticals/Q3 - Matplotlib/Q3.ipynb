{
 "cells": [
  {
   "cell_type": "code",
   "execution_count": 40,
   "id": "ec198284-9619-4b61-aa30-744dcf408ad9",
   "metadata": {},
   "outputs": [],
   "source": [
    "import matplotlib.pyplot as plt\n",
    "import numpy as np"
   ]
  },
  {
   "cell_type": "code",
   "execution_count": 41,
   "id": "35d7b488-63a3-4493-a53d-752e099af49f",
   "metadata": {},
   "outputs": [],
   "source": [
    "# Data\n",
    "classes = ['X-A', 'X-B', 'X-C']\n",
    "physics = [90, 89, 95]\n",
    "chemistry = [87, 95, 82]\n",
    "biology = [92, 85, 77]"
   ]
  },
  {
   "cell_type": "code",
   "execution_count": 42,
   "id": "1f9865aa-3ab3-4bfd-8c29-fce3d0bfd4e6",
   "metadata": {},
   "outputs": [],
   "source": [
    "# Calculate average percentage for each class\n",
    "average_percentage = np.mean([physics, chemistry, biology], axis=0)"
   ]
  },
  {
   "cell_type": "code",
   "execution_count": 43,
   "id": "de297a46-4020-497c-b88e-ac8c7dbc2a79",
   "metadata": {},
   "outputs": [],
   "source": [
    "# Bar positions\n",
    "bar_positions = np.arange(len(classes))\n",
    "\n",
    "# Bar width\n",
    "bar_width = 0.2"
   ]
  },
  {
   "cell_type": "code",
   "execution_count": 44,
   "id": "61e440a4-0b2e-4052-9fd7-4a501842e81a",
   "metadata": {},
   "outputs": [],
   "source": [
    "# Add average percentage as text on top of each bar\n",
    "for i, value in enumerate(average_percentage):\n",
    "    ax.text(bar_positions[i] - 0.1, value + 1, f'{value:.2f}', ha='center', va='bottom')"
   ]
  },
  {
   "cell_type": "code",
   "execution_count": 45,
   "id": "7086fe5c-04d3-49cd-9bab-9527081eede1",
   "metadata": {},
   "outputs": [
    {
     "data": {
      "text/plain": [
       "Text(4.444444444444452, 0.5, 'Percentage')"
      ]
     },
     "execution_count": 45,
     "metadata": {},
     "output_type": "execute_result"
    }
   ],
   "source": [
    "# Title and labels\n",
    "ax.set_title('Performance in PCB Group')\n",
    "ax.set_xlabel('Class')\n",
    "ax.set_ylabel('Percentage')"
   ]
  },
  {
   "cell_type": "code",
   "execution_count": 46,
   "id": "180adf8b-d7ff-4aeb-85ad-a6289c044206",
   "metadata": {},
   "outputs": [
    {
     "data": {
      "text/plain": [
       "[Text(0, 0, 'X-A'), Text(1, 0, 'X-B'), Text(2, 0, 'X-C')]"
      ]
     },
     "execution_count": 46,
     "metadata": {},
     "output_type": "execute_result"
    }
   ],
   "source": [
    "# Set x-axis ticks and labels\n",
    "ax.set_xticks(bar_positions)\n",
    "ax.set_xticklabels(classes)"
   ]
  },
  {
   "cell_type": "code",
   "execution_count": 47,
   "id": "e26f8da4-1bd7-4fcc-b765-47e84cbd2118",
   "metadata": {},
   "outputs": [
    {
     "data": {
      "image/png": "[encoded data removed]",
      "text/plain": [
       "<Figure size 640x480 with 1 Axes>"
      ]
     },
     "metadata": {},
     "output_type": "display_data"
    }
   ],
   "source": [
    "fig, ax = plt.subplots()\n",
    "bar1 = ax.bar(bar_positions - bar_width, physics, width=bar_width, color='blue', label='Physics')\n",
    "bar2 = ax.bar(bar_positions, chemistry, width=bar_width, color='red', label='Chemistry')\n",
    "bar3 = ax.bar(bar_positions + bar_width, biology, width=bar_width, color='green', label='Biology')\n",
    "\n",
    "ax.legend()\n",
    "plt.show()\n"
   ]
  }
 ],
 "metadata": {
  "kernelspec": {
   "display_name": "Python 3 (ipykernel)",
   "language": "python",
   "name": "python3"
  },
  "language_info": {
   "codemirror_mode": {
    "name": "ipython",
    "version": 3
   },
   "file_extension": ".py",
   "mimetype": "text/x-python",
   "name": "python",
   "nbconvert_exporter": "python",
   "pygments_lexer": "ipython3",
   "version": "3.12.0"
  }
 },
 "nbformat": 4,
 "nbformat_minor": 5
}
