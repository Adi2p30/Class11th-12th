{
 "cells": [
  {
   "cell_type": "code",
   "execution_count": 6,
   "id": "31d1ea1e-b54a-4815-8e2d-a4e22ba59dd8",
   "metadata": {},
   "outputs": [],
   "source": [
    "import pandas as pd"
   ]
  },
  {
   "cell_type": "code",
   "execution_count": 3,
   "id": "ccdd624f-74db-4c6e-b0cd-066d640991e0",
   "metadata": {},
   "outputs": [],
   "source": [
    "# Create the two Series\n",
    "Series1 = pd.Series([120, 30, 50, 100, 120])\n",
    "Series2 = pd.Series([50, 20, 100, 70, 30])"
   ]
  },
  {
   "cell_type": "code",
   "execution_count": 4,
   "id": "90fd1577-3c44-49b2-9a0f-ace9813604ab",
   "metadata": {},
   "outputs": [
    {
     "name": "stdout",
     "output_type": "stream",
     "text": [
      "Addition Result:\n",
      " 0    170\n",
      "1     50\n",
      "2    150\n",
      "3    170\n",
      "4    150\n",
      "dtype: int64\n"
     ]
    }
   ],
   "source": [
    "# (i) Perform binary operation - Addition\n",
    "addition_result = Series1 + Series2\n",
    "print(\"Addition Result:\\n\", addition_result)"
   ]
  },
  {
   "cell_type": "code",
   "execution_count": 5,
   "id": "1fa1c3ff-5713-4a33-81f7-627301edbee7",
   "metadata": {},
   "outputs": [
    {
     "name": "stdout",
     "output_type": "stream",
     "text": [
      "\n",
      "Subtraction Result:\n",
      " 0    70\n",
      "1    10\n",
      "2   -50\n",
      "3    30\n",
      "4    90\n",
      "dtype: int64\n"
     ]
    }
   ],
   "source": [
    "# (ii) Perform Binary Operation - Subtraction\n",
    "subtraction_result = Series1 - Series2\n",
    "print(\"\\nSubtraction Result:\\n\", subtraction_result)"
   ]
  }
 ],
 "metadata": {
  "kernelspec": {
   "display_name": "Python 3 (ipykernel)",
   "language": "python",
   "name": "python3"
  },
  "language_info": {
   "codemirror_mode": {
    "name": "ipython",
    "version": 3
   },
   "file_extension": ".py",
   "mimetype": "text/x-python",
   "name": "python",
   "nbconvert_exporter": "python",
   "pygments_lexer": "ipython3",
   "version": "3.12.0"
  }
 },
 "nbformat": 4,
 "nbformat_minor": 5
}
