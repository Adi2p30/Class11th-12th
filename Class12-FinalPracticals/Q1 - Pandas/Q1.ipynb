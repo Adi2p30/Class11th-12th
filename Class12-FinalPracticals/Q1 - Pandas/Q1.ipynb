{
 "cells": [
  {
   "cell_type": "code",
   "execution_count": 22,
   "id": "e518620c-3310-4678-99e6-fa59c4ba8312",
   "metadata": {},
   "outputs": [],
   "source": [
    "import pandas as pd"
   ]
  },
  {
   "cell_type": "code",
   "execution_count": 50,
   "id": "7b5e60a4-fb21-4cbe-968a-e80356f13f50",
   "metadata": {
    "scrolled": true
   },
   "outputs": [
    {
     "name": "stdout",
     "output_type": "stream",
     "text": [
      "     0   1\n",
      "M2        \n",
      "0   45   2\n",
      "1   -3  10\n",
      "2    5  -2\n",
      "3    8  15\n",
      "4   -6  -5\n",
      "5    9   3\n"
     ]
    }
   ],
   "source": [
    "# 1. Create the DataFrame\n",
    "data = [[45, 2], [-3, 10], [5, -2], [8, 15], [-6, -5], [9, 3]]  # Create a dictionary with a list of lists as values\n",
    "df = pd.DataFrame(data) # Create the DataFrame from the dictionary\n",
    "df.index.name = 'M2'\n",
    "print(df)"
   ]
  },
  {
   "cell_type": "code",
   "execution_count": 51,
   "id": "e7224704-0aed-4413-a27d-3661ce62f900",
   "metadata": {},
   "outputs": [
    {
     "name": "stdout",
     "output_type": "stream",
     "text": [
      "     0   1\n",
      "M2        \n",
      "0   45   2\n",
      "1    0  10\n",
      "2    5   0\n",
      "3    8  15\n",
      "4    0   0\n",
      "5    9   3\n"
     ]
    }
   ],
   "source": [
    "# 2. Replace negative values with 0\n",
    "df = df.where(df >=0, 0)  # Use where() to replace negative values with 0 in-place\n",
    "#[dataframe.where() replaces values when condition specified becomes false]\n",
    "# 3. Display the modified DataFrame\n",
    "print(df)"
   ]
  },
  {
   "cell_type": "code",
   "execution_count": 45,
   "id": "9b2a4b85-6cb8-42dc-8103-cdaa67a9bfd3",
   "metadata": {},
   "outputs": [
    {
     "name": "stdout",
     "output_type": "stream",
     "text": [
      "Shape of the DataFrame: (6, 2)\n"
     ]
    }
   ],
   "source": [
    "# 4. Display the shape of the DataFrame\n",
    "print(\"Shape of the DataFrame:\", df.shape)  # Use shape attribute to get dimensions"
   ]
  },
  {
   "cell_type": "code",
   "execution_count": null,
   "id": "8cf14b26-f9fe-4efb-a226-f8014f4a7aa7",
   "metadata": {},
   "outputs": [],
   "source": []
  }
 ],
 "metadata": {
  "kernelspec": {
   "display_name": "Python 3 (ipykernel)",
   "language": "python",
   "name": "python3"
  },
  "language_info": {
   "codemirror_mode": {
    "name": "ipython",
    "version": 3
   },
   "file_extension": ".py",
   "mimetype": "text/x-python",
   "name": "python",
   "nbconvert_exporter": "python",
   "pygments_lexer": "ipython3",
   "version": "3.12.0"
  }
 },
 "nbformat": 4,
 "nbformat_minor": 5
}
